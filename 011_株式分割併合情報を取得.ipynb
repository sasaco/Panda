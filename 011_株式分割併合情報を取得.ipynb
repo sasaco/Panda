{
 "nbformat": 4,
 "nbformat_minor": 2,
 "metadata": {
  "language_info": {
   "name": "python",
   "codemirror_mode": {
    "name": "ipython",
    "version": 3
   },
   "version": "3.7.3-final"
  },
  "orig_nbformat": 2,
  "file_extension": ".py",
  "mimetype": "text/x-python",
  "name": "python",
  "npconvert_exporter": "python",
  "pygments_lexer": "ipython3",
  "version": 3,
  "kernelspec": {
   "name": "python37364bitanaconda3virtualenv3bb411c0fb954eba89ed72a69a00935e",
   "display_name": "Python 3.7.3 64-bit ('anaconda3': virtualenv)"
  }
 },
 "cells": [
  {
   "cell_type": "code",
   "execution_count": 6,
   "metadata": {},
   "outputs": [],
   "source": [
    "import requests\n",
    "from bs4 import BeautifulSoup\n",
    "\n",
    "import csv"
   ]
  },
  {
   "cell_type": "markdown",
   "execution_count": null,
   "metadata": {},
   "outputs": [],
   "source": [
    "## 株式分割情報を取得\n",
    "\n",
    "松井証券 株式分割情報\n",
    "\n",
    "https://ca.image.jp/matsui/?type=0&page=1"
   ]
  },
  {
   "cell_type": "code",
   "execution_count": 7,
   "metadata": {},
   "outputs": [
    {
     "name": "stdout",
     "output_type": "stream",
     "text": "2020-06-26\n4519\n\n\n\t\t\t\t中外製薬\n\t\t\t\t \n\n東証1部\n1\n:\n3\n-\n2020-03-27\n3739\n\n\n\t\t\t\tコムシード\n\t\t\t\t \n\n名証セントレックス\n1\n:\n2\n-\n2020-03-27\n9470\n\n\n\t\t\t\t学研ホールディングス\n\t\t\t\t \n\n東証1部\n1\n:\n4\n-\n2020-02-26\n2726\n\n\n\t\t\t\tパルグループホールディングス\n\t\t\t\t \n\n東証1部\n1\n:\n2\n-\n2020-02-26\n3387\n\n\n\t\t\t\tクリエイト・レストランツ・ホールディングス\n\t\t\t\t \n\n東証1部\n1\n:\n2\n-\n2020-02-26\n6086\n\n\n\t\t\t\tシンメンテホールディングス\n\t\t\t\t \n\n東証マザーズ\n1\n:\n2\n-\n2020-02-12\n7044\n\n\n\t\t\t\tピアラ\n\t\t\t\t \n\n東証マザーズ\n1\n:\n2\n-\n2020-01-29\n3176\n\n\n\t\t\t\t三洋貿易\n\t\t\t\t \n\n東証1部\n1\n:\n2\n-\n2020-01-29\n4382\n\n\n\t\t\t\tＨＥＲＯＺ\n\t\t\t\t \n\n東証マザーズ\n1\n:\n2\n-\n2020-01-29\n4674\n\n\n\t\t\t\tクレスコ\n\t\t\t\t \n\n東証1部\n1\n:\n2\n-\n2020-01-29\n6239\n\n\n\t\t\t\tナガオカ\n\t\t\t\t \n\n東証JQスタンダード\n1\n:\n2\n-\n2020-01-29\n6564\n\n\n\t\t\t\tミダック\n\t\t\t\t \n\n東証2部・名証2部\n1\n:\n1.3\n-\n2020-01-10\n4446\n\n\n\t\t\t\tＬｉｎｋ－Ｕ\n\t\t\t\t \n\n東証マザーズ\n1\n:\n3\n-\n2020-01-08\n7034\n\n\n\t\t\t\tプロレド・パートナーズ\n\t\t\t\t \n\n東証マザーズ\n1\n:\n2\n-\n2019-12-26\n1431\n\n\n\t\t\t\tＬｉｂ　Ｗｏｒｋ\n\t\t\t\t \n\n東証マザーズ・福証Q-Board\n1\n:\n2\n-\n2019-12-26\n2492\n\n\n\t\t\t\tインフォマート\n\t\t\t\t \n\n東証1部\n1\n:\n2\n-\n2019-12-26\n2752\n\n\n\t\t\t\tフジオフードシステム\n\t\t\t\t \n\n東証1部\n1\n:\n2\n-\n2019-12-26\n3830\n\n\n\t\t\t\tギガプライズ\n\t\t\t\t \n\n名証セントレックス\n1\n:\n2\n-\n2019-12-26\n4435\n\n\n\t\t\t\tカオナビ\n\t\t\t\t \n\n東証マザーズ\n1\n:\n2\n-\n2019-12-26\n4437\n\n\n\t\t\t\tｇｏｏｄｄａｙｓホールディングス\n\t\t\t\t \n\n東証マザーズ\n1\n:\n2\n-\n2019-12-26\n4439\n\n\n\t\t\t\t東名\n\t\t\t\t \n\n東証マザーズ・名証セントレックス\n1\n:\n3\n-\n2019-12-26\n4447\n\n\n\t\t\t\tピー・ビーシステムズ\n\t\t\t\t \n\n福証Q-Board\n1\n:\n2\n-\n2019-12-26\n4820\n\n\n\t\t\t\tイーエムシステムズ\n\t\t\t\t \n\n東証1部\n1\n:\n2\n-\n2019-12-26\n6062\n\n\n\t\t\t\tチャーム・ケア・コーポレーション\n\t\t\t\t \n\n東証1部\n1\n:\n2\n-\n2019-12-26\n6195\n\n\n\t\t\t\tホープ\n\t\t\t\t \n\n東証マザーズ・福証Q-Board\n1\n:\n4\n-\n2019-12-26\n6920\n\n\n\t\t\t\tレーザーテック\n\t\t\t\t \n\n東証1部\n1\n:\n2\n-\n2019-12-26\n7508\n\n\n\t\t\t\tＧ－７ホールディングス\n\t\t\t\t \n\n東証1部\n1\n:\n2\n-\n2019-12-26\n7676\n\n\n\t\t\t\tグッドスピード\n\t\t\t\t \n\n東証マザーズ\n1\n:\n2\n-\n2019-12-26\n7814\n\n\n\t\t\t\t日本創発グループ\n\t\t\t\t \n\n東証JQスタンダード\n1\n:\n4\n-\n2019-12-26\n8928\n\n\n\t\t\t\t穴吹興産\n\t\t\t\t \n\n東証1部\n1\n:\n2\n-\n2019-12-26\n9130\n\n\n\t\t\t\t共栄タンカー\n\t\t\t\t \n\n東証1部\n1\n:\n2\n-\n2019-12-26\n9432\n\n\n\t\t\t\t日本電信電話\n\t\t\t\t \n\n東証1部\n1\n:\n2\n-\n2019-12-26\n9759\n\n\n\t\t\t\tＮＳＤ\n\t\t\t\t \n\n東証1部\n1\n:\n2\n-\n2019-12-06\n3484\n\n\n\t\t\t\tテンポイノベーション\n\t\t\t\t \n\n東証1部\n1\n:\n2\n-\n2019-12-03\n6096\n\n\n\t\t\t\tレアジョブ\n\t\t\t\t \n\n東証マザーズ\n1\n:\n2\n-\n2019-11-27\n3836\n\n\n\t\t\t\tアバント\n\t\t\t\t \n\n東証1部\n1\n:\n2\n-\n2019-11-27\n3968\n\n\n\t\t\t\tセグエグループ\n\t\t\t\t \n\n東証1部\n1\n:\n2\n-\n2019-11-27\n6080\n\n\n\t\t\t\tＭ＆Ａキャピタルパートナーズ\n\t\t\t\t \n\n東証1部\n1\n:\n2\n-\n2019-11-27\n7065\n\n\n\t\t\t\tユーピーアール\n\t\t\t\t \n\n東証2部\n1\n:\n5\n-\n2019-11-27\n7673\n\n\n\t\t\t\tダイコー通産\n\t\t\t\t \n\n東証2部\n1\n:\n2\n-\n2019-11-27\n9934\n\n\n\t\t\t\t因幡電機産業\n\t\t\t\t \n\n東証1部\n1\n:\n2\n-\n2019-11-18\n6861\n\n\n\t\t\t\tキーエンス\n\t\t\t\t \n\n東証1部\n1\n:\n2\n-\n2019-10-29\n1992\n\n\n\t\t\t\t神田通信機\n\t\t\t\t \n\n東証JQスタンダード\n1\n:\n3\n-\n2019-10-29\n3038\n\n\n\t\t\t\t神戸物産\n\t\t\t\t \n\n東証1部\n1\n:\n2\n-\n2019-10-29\n3854\n\n\n\t\t\t\tアイル\n\t\t\t\t \n\n東証1部\n1\n:\n2\n-\n2019-10-29\n4430\n\n\n\t\t\t\t東海ソフト\n\t\t\t\t \n\n東証2部・名証2部\n1\n:\n2\n-\n2019-10-08\n4441\n\n\n\t\t\t\tトビラシステムズ\n\t\t\t\t \n\n東証マザーズ\n1\n:\n3\n-\n2019-10-01\n4438\n\n\n\t\t\t\tＷｅｌｂｙ\n\t\t\t\t \n\n東証マザーズ\n1\n:\n4\n-\n2019-09-26\n2471\n\n\n\t\t\t\tエスプール\n\t\t\t\t \n\n東証1部\n1\n:\n5\n-\n2019-09-26\n3288\n\n\n\t\t\t\tオープンハウス\n\t\t\t\t \n\n東証1部\n1\n:\n2\n-\n"
    }
   ],
   "source": [
    "request = requests.get('https://ca.image.jp/matsui/?type=0&page=1')\n",
    "\n",
    "soup = BeautifulSoup(request.content, 'html.parser') # BeautifulSoupの初期化\n",
    "\n",
    "# テーブルを指定\n",
    "table = soup.findAll(\"table\", {\"class\":\"commontbl\"})[0]\n",
    "rows = table.findAll(\"tr\")\n",
    "\n",
    "for row in rows:\n",
    "    for cell in row.findAll(['td']):\n",
    "        print(cell.get_text())"
   ]
  },
  {
   "cell_type": "code",
   "execution_count": null,
   "metadata": {},
   "outputs": [],
   "source": [
    "with open(\"ebooks.csv\", \"w\", encoding='utf-8') as file:\n",
    "    writer = csv.writer(file)\n",
    "    for row in rows:\n",
    "        csvRow = []\n",
    "        for cell in row.findAll(['td', 'th']):\n",
    "            csvRow.append(cell.get_text())\n",
    "        writer.writerow(csvRow)"
   ]
  }
 ]
}